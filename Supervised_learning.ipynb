{
 "cells": [
  {
   "cell_type": "markdown",
   "metadata": {},
   "source": [
    "## Supervised Learning"
   ]
  },
  {
   "cell_type": "markdown",
   "metadata": {},
   "source": [
    "The goal of this project is to get experience with supervised classification algorithms <br>\n",
    "and multilayer feed forward neural networks. <br>\n",
    "The datasets will be synthetic and I will implement the methods without the use of ML libraries."
   ]
  },
  {
   "cell_type": "markdown",
   "metadata": {},
   "source": [
    "### Initialization"
   ]
  },
  {
   "cell_type": "code",
   "execution_count": 1,
   "metadata": {},
   "outputs": [],
   "source": [
    "import numpy as np\n",
    "import matplotlib.pyplot as plt\n",
    "import sklearn\n",
    "from sklearn import datasets\n",
    "import random\n",
    "from collections import Counter"
   ]
  },
  {
   "cell_type": "markdown",
   "metadata": {},
   "source": [
    "# Part 1: Comparing classifiers\n",
    "## Datasets\n",
    "We start by making a synthetic dataset of 1600 datapoints and three classes, with 800 individuals in one class and 400 in each of the two other classes.\n",
    "Since this data set is synthetic it is not necessary to shuffle it since that is already done by scikit, but it would be useful to shuffle it if it was real world data with no other obvious way to split it.\n",
    "\n",
    "We should split the data so that we keep the alignment between X and t, which may be achieved by shuffling the indices. We split into 50% for training, 25% for validation, and 25% for final testing. The set for final testing *will not be used* till the end of the project.\n",
    "\n",
    "We fix the seed both for data set generation and for shuffling, so that we work on the same datasets when we rerun the experiments."
   ]
  },
  {
   "cell_type": "code",
   "execution_count": 2,
   "metadata": {},
   "outputs": [],
   "source": [
    "from sklearn.datasets import make_blobs\n",
    "X, t = make_blobs(n_samples=[400,800,400], centers=[[0,0],[1,2],[2,3]], \n",
    "                  n_features=2, random_state=2019)"
   ]
  },
  {
   "cell_type": "code",
   "execution_count": 3,
   "metadata": {},
   "outputs": [
    {
     "data": {
      "text/plain": [
       "array([1301,  293,  968,  624,  658,  574,  433,  368,  512,  353])"
      ]
     },
     "execution_count": 3,
     "metadata": {},
     "output_type": "execute_result"
    }
   ],
   "source": [
    "indices = np.arange(X.shape[0])\n",
    "random.seed(2020)\n",
    "random.shuffle(indices)\n",
    "indices[:10]"
   ]
  },
  {
   "cell_type": "code",
   "execution_count": 4,
   "metadata": {},
   "outputs": [],
   "source": [
    "X_train = X[indices[:800],:]\n",
    "X_val = X[indices[800:1200],:]\n",
    "X_test = X[indices[1200:],:]\n",
    "t_train = t[indices[:800]]\n",
    "t_val = t[indices[800:1200]]\n",
    "t_test = t[indices[1200:]]"
   ]
  },
  {
   "cell_type": "markdown",
   "metadata": {},
   "source": [
    "Next, we will  make a second dataset by merging the two smaller classes in (X,t) and call the new set (X, t2). This will be a binary set."
   ]
  },
  {
   "cell_type": "code",
   "execution_count": 5,
   "metadata": {},
   "outputs": [],
   "source": [
    "t2_train = t_train == 1\n",
    "t2_train = t2_train.astype('int')\n",
    "t2_val = (t_val == 1).astype('int')\n",
    "t2_test = (t_test == 1).astype('int')"
   ]
  },
  {
   "cell_type": "markdown",
   "metadata": {},
   "source": [
    "Plot the two training sets."
   ]
  },
  {
   "cell_type": "code",
   "execution_count": 6,
   "metadata": {},
   "outputs": [
    {
     "data": {
      "text/plain": [
       "<matplotlib.collections.PathCollection at 0x7f105a1450d0>"
      ]
     },
     "execution_count": 6,
     "metadata": {},
     "output_type": "execute_result"
    },
    {
     "data": {
      "image/png": "[encoded data removed]",
      "text/plain": [
       "<Figure size 432x288 with 1 Axes>"
      ]
     },
     "metadata": {
      "needs_background": "light"
     },
     "output_type": "display_data"
    }
   ],
   "source": [
    "# Your solution\n",
    "plt.scatter(*zip(*X_train), c=\"indigo\")\n",
    "plt.scatter(*zip(*X_train[t2_train.astype(\"bool\")]), c=\"violet\")"
   ]
  },
  {
   "cell_type": "markdown",
   "metadata": {},
   "source": [
    "## Binary classifiers"
   ]
  },
  {
   "cell_type": "markdown",
   "metadata": {},
   "source": [
    "### Linear regression\n",
    "We see that that set (X, t2) is far from linearly separable, and we will explore how various classifiers are able to handle this. We start with linear regression.\n",
    "\n",
    "We will train the classifier on (X_train, t2_train) and test for accuracy on (X_val, t2_val) for various values of *diff*."
   ]
  },
  {
   "cell_type": "code",
   "execution_count": 7,
   "metadata": {},
   "outputs": [
    {
     "name": "stdout",
     "output_type": "stream",
     "text": [
      "0.6075\n",
      "0.6075\n",
      "0.6075\n",
      "0.445\n"
     ]
    }
   ],
   "source": [
    "class NumpyClassifier():\n",
    "    \"\"\"Common methods to all numpy classifiers --- if any\"\"\"\n",
    "    \n",
    "    def accuracy(self, X_testing, y_test, **kwargs):\n",
    "        pred = self.predict(X_testing, **kwargs)\n",
    "        if len(pred.shape) > 1:\n",
    "            pred = pred[:,0]\n",
    "        return sum(pred==y_test)/len(pred)\n",
    "    \n",
    "def add_bias(X):\n",
    "    \"\"\"X is a Nxm matrix: N datapoints, m features\n",
    "    Return a Nx(m+1) matrix with added bias in position zero\"\"\"\n",
    "    sh = X.shape\n",
    "    m = sh[0]\n",
    "    bias = np.ones((m,1)) # Make a m*1 matrix of 1-s\n",
    "    # Concatenate the column of bias in front of the columns of X.\n",
    "    return np.concatenate((bias, X), axis = 1) \n",
    "\n",
    "class NumpyLinRegClass(NumpyClassifier):\n",
    "\n",
    "    def fit(self, X_train, t_train, eta = 0.1, epochs=10, diff=0.001):\n",
    "        \"\"\"X_train is a Nxm matrix, N data points, m features\n",
    "        t_train are the targets values for training data\"\"\"\n",
    "        \n",
    "        (k, m) = X_train.shape\n",
    "        X_train = add_bias(X_train)\n",
    "        \n",
    "        self.weights = weights = np.zeros(m+1)\n",
    "        \n",
    "        for e in range(epochs):\n",
    "            change = eta / k *  X_train.T @ (X_train @ weights - t_train)     \n",
    "            weights -= change\n",
    "            \n",
    "            if sum(abs(weights)) < diff:\n",
    "                break\n",
    "    \n",
    "    def predict(self, x, threshold=0.5):\n",
    "        z = add_bias(x)\n",
    "        score = z @ self.weights\n",
    "        return score>threshold    \n",
    "\n",
    "thresholds = [0.000000000001, 0.1, 0.2, 0.3]\n",
    "\n",
    "for x in thresholds:\n",
    "    cls = NumpyLinRegClass()\n",
    "    cls.fit(X_train, t2_train, epochs=10000, diff=x)\n",
    "    print(cls.accuracy(X_val, t2_val))\n"
   ]
  },
  {
   "cell_type": "markdown",
   "metadata": {},
   "source": [
    "0.2 seems like a reasonable value for diff"
   ]
  },
  {
   "cell_type": "markdown",
   "metadata": {},
   "source": [
    "### Logistic regression\n",
    "Now we do the same thing with logistic regression, i.e., add the *diff*, tune it, report accuracy, and store it for later."
   ]
  },
  {
   "cell_type": "code",
   "execution_count": 8,
   "metadata": {},
   "outputs": [
    {
     "name": "stdout",
     "output_type": "stream",
     "text": [
      "0.59\n",
      "0.59\n",
      "0.59\n",
      "0.59\n",
      "0.59\n"
     ]
    }
   ],
   "source": [
    "class NumpyClassifier():\n",
    "    \"\"\"Common methods to all numpy classifiers --- if any\"\"\"\n",
    "    \n",
    "    def accuracy(self,X_test, y_test, **kwargs):\n",
    "        pred = self.predict(X_test, **kwargs)\n",
    "        if len(pred.shape) > 1:\n",
    "            pred = pred[:,0]\n",
    "        return sum(pred==y_test)/len(pred)\n",
    "\n",
    "def logistic(x):\n",
    "    return 1/(1+np.exp(-x))\n",
    "\n",
    "class NumpyMultiLogReg(NumpyClassifier):\n",
    "\n",
    "    def fit(self, X_train, t_train, eta = 0.1, epochs=10, diff=0.001):\n",
    "        \"\"\"X_train is a Nxm matrix, N data points, m features\n",
    "        t_train are the targets values for training data\n",
    "        \n",
    "        Makes a fit for each feature, t_train now has multiple values\"\"\"\n",
    "        \n",
    "        (k, m) = X_train.shape\n",
    "        X_train = add_bias(X_train)\n",
    "        \n",
    "        self.weights = weights = np.zeros(m+1)\n",
    "        \n",
    "        for e in range(epochs):\n",
    "            change = eta / k *  X_train.T @ (self.forward(X_train) - t_train)\n",
    "            weights -= change\n",
    "            \n",
    "            if sum(abs(change)) < diff:\n",
    "                break\n",
    "    \n",
    "    def forward(self, X):\n",
    "        return logistic(X @ self.weights)\n",
    "    \n",
    "    def score(self, x):\n",
    "        z = add_bias(x)\n",
    "        score = self.forward(z)\n",
    "        return score\n",
    "    \n",
    "    def predict(self, x, threshold=0.5):\n",
    "        z = add_bias(x)\n",
    "        score = self.forward(z)\n",
    "        return (score>threshold).astype('int')\n",
    "    \n",
    "thresholds = [1e-09, 0.001, 0.004, 0.01, 0.1]\n",
    "\n",
    "for x in thresholds:\n",
    "    cls = NumpyMultiLogReg()\n",
    "    cls.fit(X_train, t_train, epochs=1000, diff=x)\n",
    "    print(cls.accuracy(X_val, t_val))"
   ]
  },
  {
   "cell_type": "markdown",
   "metadata": {},
   "source": [
    "### *k*-nearest neighbors (*k*NN)\n",
    "We will now compare to the *k*-nearest neighbors classifier.\n",
    "\n",
    "We train on (X_train, t2_train) and test on (X2_val, t2_val) for various values of *k*. Choose the best *k*, report accuracy and store for later."
   ]
  },
  {
   "cell_type": "code",
   "execution_count": 9,
   "metadata": {},
   "outputs": [
    {
     "name": "stdout",
     "output_type": "stream",
     "text": [
      "0.68\n",
      "0.7525\n",
      "0.7625\n",
      "0.7575\n",
      "0.7525\n",
      "0.75\n",
      "0.745\n"
     ]
    }
   ],
   "source": [
    "def distance_L2(a, b):\n",
    "    \"L2-distance using comprehension\"\n",
    "    s = sum((x - y) ** 2 for (x,y) in zip(a,b))\n",
    "    return s ** 0.5\n",
    "\n",
    "def majority(a):\n",
    "    counts = Counter(a)\n",
    "    return counts.most_common()[0][0]\n",
    "\n",
    "class PyClassifier():\n",
    "    \"\"\"Common methods to all python classifiers --- if any\"\"\"\n",
    "    \n",
    "    def accuracy(self, X_test, y_test, **kwargs):\n",
    "        \"\"\"Calculate the accuracy of the classifier \n",
    "        using the predict method\"\"\"\n",
    "        predicted = [self.predict(a, **kwargs) for a in X_test]\n",
    "        equal = len([(p, g) for (p,g) in zip(predicted, y_test) if p==g])\n",
    "        return equal / len(y_test)\n",
    "\n",
    "class PykNNClassifier(PyClassifier):\n",
    "    \"\"\"kNN classifier using pure python representations\"\"\"\n",
    "    \n",
    "    def __init__(self, k=3, dist=distance_L2):\n",
    "        self.k = k\n",
    "        self.dist = dist\n",
    "        \n",
    "    def fit(self, X_train, y_train):\n",
    "        self.X_train = X_train\n",
    "        self.y_train = y_train\n",
    "    \n",
    "    def predict(self, a):\n",
    "        X = self.X_train\n",
    "        y = self.y_train\n",
    "        distances = [(self.dist(a, b), b, c) for (b, c) in zip(X, y)]\n",
    "        distances.sort()\n",
    "        predictors = [c for (_,_,c) in distances[0: self.k]]\n",
    "        return majority(predictors)\n",
    "\n",
    "# testing\n",
    "for k in [3,19,20,21,25, 30, 100]:\n",
    "    cls = PykNNClassifier(k)\n",
    "    cls.fit(list(X_train), list(t2_train))\n",
    "    print(cls.accuracy(list(X_val), list(t2_val)))"
   ]
  },
  {
   "cell_type": "markdown",
   "metadata": {},
   "source": [
    "k=20 seems to do the best job"
   ]
  },
  {
   "cell_type": "markdown",
   "metadata": {},
   "source": [
    "### Simple perceptron\n",
    "Finally, we run a simple perceptron on the same set, and report and store accuracy."
   ]
  },
  {
   "cell_type": "code",
   "execution_count": 10,
   "metadata": {},
   "outputs": [
    {
     "name": "stdout",
     "output_type": "stream",
     "text": [
      "0.6475\n"
     ]
    }
   ],
   "source": [
    "class PyPerClassifier(PyClassifier):\n",
    "    \"\"\"Simple perceptron python classifier\"\"\"\n",
    "    \n",
    "    def fit(self, X_train, y_train, eta=1, epochs=1):\n",
    "        \"\"\"Train the self.weights on the training data with learning\n",
    "        rate eta, running epochs many epochs\"\"\"\n",
    "        X_train = [[1]+list(x) for x in X_train] # Put bias in position 0      \n",
    "        self.dim = dim = len(X_train[0])\n",
    "        self.weights = weights = [0 for _ in range(dim)]\n",
    "        # Initialize all weights to 0.\n",
    "\n",
    "        for e in range(epochs):\n",
    "            for x, t in zip(X_train, y_train):\n",
    "                y = int(self.forward(x)>0)\n",
    "                for i in range(dim):\n",
    "                    weights[i] -= eta * (y - t) * x[i]\n",
    "        \n",
    "    def forward(self, x):\n",
    "        \"\"\"Calculate the score for the item x\"\"\"\n",
    "        score = sum([self.weights[i]*x[i] for i in range(self.dim)])\n",
    "        return score       \n",
    "    \n",
    "    def predict(self, x):\n",
    "        \"\"\"Predict the value for the item x\"\"\"\n",
    "        x = [1] + list(x)\n",
    "        score = self.forward(x)\n",
    "        return int(score > 0)\n",
    "\n",
    "# testing\n",
    "cls = PyPerClassifier()\n",
    "cls.fit(list(X_train), list(t2_train))\n",
    "print(cls.accuracy(list(X_val), list(t2_val)))"
   ]
  },
  {
   "cell_type": "markdown",
   "metadata": {},
   "source": [
    "### Summary\n",
    "Here are the accuracies for the four classifiers in a table."
   ]
  },
  {
   "cell_type": "markdown",
   "metadata": {},
   "source": [
    "<style type=\"text/css\">\n",
    ".tg  {border-collapse:collapse;border-spacing:0;}\n",
    ".tg td{border-color:black;border-style:solid;border-width:1px;font-family:Arial, sans-serif;font-size:14px;\n",
    "  overflow:hidden;padding:10px 5px;word-break:normal;}\n",
    ".tg th{border-color:black;border-style:solid;border-width:1px;font-family:Arial, sans-serif;font-size:14px;\n",
    "  font-weight:normal;overflow:hidden;padding:10px 5px;word-break:normal;}\n",
    ".tg .tg-0lax{text-align:left;vertical-align:top}\n",
    ".tg .tg-0pky{border-color:inherit;text-align:left;vertical-align:top}\n",
    "</style>\n",
    "<table class=\"tg\">\n",
    "<thead>\n",
    "  <tr>\n",
    "    <th class=\"tg-0lax\">Name</th>\n",
    "    <th class=\"tg-0lax\">Accuracy</th>\n",
    "    <th class=\"tg-0lax\">Parameters</th>\n",
    "    <th class=\"tg-0lax\">Comments</th>\n",
    "  </tr>\n",
    "</thead>\n",
    "<tbody>\n",
    "  <tr>\n",
    "    <td class=\"tg-0pky\">Linear regression</td>\n",
    "    <td class=\"tg-0pky\">0.6075</td>\n",
    "    <td class=\"tg-0pky\">diff = 0.2</td>\n",
    "    <td class=\"tg-0lax\">No difference as long as diff &lt; 0.2</td>\n",
    "  </tr>\n",
    "  <tr>\n",
    "    <td class=\"tg-0pky\">Logisitic regression</td>\n",
    "    <td class=\"tg-0pky\">0.64</td>\n",
    "    <td class=\"tg-0pky\">diff = 0.004</td>\n",
    "    <td class=\"tg-0lax\">This was worse for both higher and lower values of diff</td>\n",
    "  </tr>\n",
    "  <tr>\n",
    "    <td class=\"tg-0pky\">kNN</td>\n",
    "    <td class=\"tg-0pky\">0.7625</td>\n",
    "    <td class=\"tg-0pky\">k = 20</td>\n",
    "    <td class=\"tg-0lax\">This was also worse for both more and fewer neighbours</td>\n",
    "  </tr>\n",
    "  <tr>\n",
    "    <td class=\"tg-0pky\">Perceptron</td>\n",
    "    <td class=\"tg-0pky\">0.745</td>\n",
    "    <td class=\"tg-0pky\"></td>\n",
    "    <td class=\"tg-0lax\">This was fairly quick, as expected, but I hoped it would beat kNN</td>\n",
    "  </tr>\n",
    "</tbody>\n",
    "</table>"
   ]
  },
  {
   "cell_type": "markdown",
   "metadata": {},
   "source": [
    "## Multi-class classifiers\n",
    "We turn to the task of classifying when there are more than two classes, and the task is to ascribe one class to each input. We will now use the set (X, t)."
   ]
  },
  {
   "cell_type": "markdown",
   "metadata": {},
   "source": [
    "### *k*NN\n",
    "The *k*-nearest neighbors classifier can also handle multiple classes without needing to be modified. We will train it on (X_train, t_train), test it on (X_val, t_val) for various values of *k*."
   ]
  },
  {
   "cell_type": "code",
   "execution_count": 11,
   "metadata": {},
   "outputs": [
    {
     "name": "stdout",
     "output_type": "stream",
     "text": [
      "0.675\n",
      "0.755\n",
      "0.7675\n",
      "0.76\n",
      "0.7525\n",
      "0.755\n",
      "0.7475\n"
     ]
    }
   ],
   "source": [
    "for k in [3,19,20,21,25, 30, 100]:\n",
    "    cls = PykNNClassifier(k)\n",
    "    cls.fit(list(X_train), list(t_train))\n",
    "    print(cls.accuracy(list(X_val), list(t_val)))\n",
    "    \n",
    "# again it seems like k=20 is the better option"
   ]
  },
  {
   "cell_type": "markdown",
   "metadata": {},
   "source": [
    "### Logistic regression \"one-vs-rest\"\n",
    "A logistic regression classifier can be turned into a multi-class classifier using the one-vs-rest approach. We train one classifier for each class and assign the class which ascribes the highest probability.\n",
    "\n",
    "We will also extend the logisitc regression classifier to a multi-class classifier."
   ]
  },
  {
   "cell_type": "code",
   "execution_count": 12,
   "metadata": {},
   "outputs": [
    {
     "data": {
      "text/plain": [
       "0.285"
      ]
     },
     "execution_count": 12,
     "metadata": {},
     "output_type": "execute_result"
    }
   ],
   "source": [
    "# for every feature\n",
    "# define one-vs-rest\n",
    "# fit training data and predict\n",
    "\n",
    "for num in range(3):\n",
    "    t3_train = (t_train == num).astype(\"int\")\n",
    "\n",
    "class NumpyMultiLogReg(NumpyClassifier):\n",
    "\n",
    "    def fit(self, X_train, t_train, eta = 0.1, epochs=10, diff=0.001):\n",
    "        \n",
    "        # Fits a training set for each feature\n",
    "        self.features = set(t_train)\n",
    "        t_list_features = []\n",
    "        (k, m) = X_train.shape\n",
    "        self.weights = np.zeros((len(self.features), m+1))\n",
    "        X_train = add_bias(X_train)\n",
    "        \n",
    "        for f in self.features:\n",
    "            t_feature = (t_train == f).astype(\"int\")\n",
    "            t_list_features.append(t_feature)\n",
    "            \n",
    "            self.weights[f] = weights = np.zeros(m+1)\n",
    "            \n",
    "            for e in range(epochs):\n",
    "                change = eta / k *  X_train.T @ (self.forward(X_train, f) - t_list_features[f])\n",
    "                weights -= change\n",
    "            \n",
    "                if sum(abs(change)) < diff:\n",
    "                    break\n",
    "    \n",
    "    def forward(self, X, f):\n",
    "        return logistic(X @ self.weights[f])\n",
    "    \n",
    "    def score(self, x):\n",
    "        z = add_bias(x)\n",
    "        score = self.forward(z)\n",
    "        return score\n",
    "    \n",
    "    def predict(self, x, threshold=0.5):\n",
    "        z = add_bias(x)\n",
    "        score = []\n",
    "        predicted = np.zeros(len(x))\n",
    "        # check the probability for each feature\n",
    "        for f in self.features:\n",
    "            score.append(self.forward(z,f))\n",
    "        # decide which feature the point is the closest to\n",
    "        for i in range(len(x)):\n",
    "            best = 0\n",
    "            # find the highest probability\n",
    "            for f in self.features:\n",
    "                if score[f][i] > best:\n",
    "                    best = score[f][i]\n",
    "                    # assign that feature as the predicted for the chosen point\n",
    "                    predicted[i] = f\n",
    "        return predicted\n",
    "\n",
    "cls = NumpyMultiLogReg()\n",
    "cls.fit(X_train, t_train)\n",
    "cls.accuracy(X_val, t_val)"
   ]
  },
  {
   "cell_type": "markdown",
   "metadata": {},
   "source": [
    "Some observations so far:\n",
    "* The kNN does better than the one-vs-rest approach to logistic classification above\n",
    "* The three-class classifier does worse than the binary one, I expected it to score above 1/3\n",
    "* I would assume one of the reasons is that the three-class classifier will be penalized more as there are more possibilities for false classifications, e.g. if a point which was feature 2 was classifed as feature 0 the three-class classifier is wrong to classify it as such, whereas the binary classifier can be right by just classifying it as \"not feature 0\". \n"
   ]
  },
  {
   "cell_type": "markdown",
   "metadata": {},
   "source": [
    "## Adding non-linear features"
   ]
  },
  {
   "cell_type": "markdown",
   "metadata": {},
   "source": [
    "We are returning to the binary classifier and the set (X, t2). <br>\n",
    "As we see, some of the classifiers are not doing too well on the (X, t2) set. <br>\n",
    "It is easy to see from the plot that this data set is not well suited for linear classifiers.<br>\n",
    "There are several possible options for trying to learn on such a set. One is to construct new features from the original features to get better discriminants. <br>\n",
    "This works e.g., for the XOR-problem. The current classifiers use two features: $x_1$ and $x_2$ (and a bias term $x_0$). We will try to add three additional features of the form ${x_1}^2$, ${x_2}^2$, $x_1*x_2$ to the original features and see what the accuracies are now.\n",
    "(Some of the classifiers could probably achieve better results if we scaled the data)."
   ]
  },
  {
   "cell_type": "markdown",
   "metadata": {},
   "source": [
    "### Linear regression with non-linear features"
   ]
  },
  {
   "cell_type": "code",
   "execution_count": 13,
   "metadata": {},
   "outputs": [
    {
     "name": "stdout",
     "output_type": "stream",
     "text": [
      "0.5275\n",
      "0.5275\n",
      "0.5275\n",
      "0.5275\n"
     ]
    },
    {
     "name": "stderr",
     "output_type": "stream",
     "text": [
      "/tmp/ipykernel_45479/736322123.py:37: RuntimeWarning: overflow encountered in matmul\n",
      "  change = eta / k *  X_train.T @ (X_train @ weights - t_train)\n",
      "/tmp/ipykernel_45479/736322123.py:37: RuntimeWarning: invalid value encountered in matmul\n",
      "  change = eta / k *  X_train.T @ (X_train @ weights - t_train)\n",
      "/tmp/ipykernel_45479/736322123.py:46: RuntimeWarning: invalid value encountered in greater\n",
      "  return score>threshold\n"
     ]
    }
   ],
   "source": [
    "def add_bias(X):\n",
    "    \"\"\"X is a Nxm matrix: N datapoints, m features\n",
    "    Return a Nx(m+1) matrix with added bias in position zero\"\"\"\n",
    "    sh = X.shape\n",
    "    m = sh[0]\n",
    "    bias = np.ones((m,1)) # Make a m*1 matrix of 1-s\n",
    "    # Concatenate the column of bias in front of the columns of X.\n",
    "    return np.concatenate((bias, X), axis = 1)\n",
    "\n",
    "def add_non_linear_features(X):\n",
    "    \"\"\"X is a Nxm matrix: N datapoints, m features\n",
    "    Return a Nx(m+3) matrix with three added linear features in position m+1,m+2,m+3\n",
    "    these will be x_1^2, x_2^2 and x_1*x_2 all consecutive x_i's will be unused, \n",
    "    it is assumed that X already has x_0 as a bias weight\"\"\"\n",
    "    sh = X.shape\n",
    "    m = sh[0]\n",
    "    # We are adding 3 linear features to all m rows\n",
    "    non_linear_features = np.zeros((m,3))\n",
    "    for i in range(m):\n",
    "        non_linear_features[i][0] = X[i][1]**2\n",
    "        non_linear_features[i][1] = X[i][2]**2\n",
    "        non_linear_features[i][2] = X[i][1]*X[i][2]\n",
    "    return np.concatenate((X, non_linear_features), axis = 1)\n",
    "    \n",
    "\n",
    "class NumpyLinRegClass(NumpyClassifier):\n",
    "\n",
    "    def fit(self, X_train, t_train, eta = 0.1, epochs=10, diff=0.001):\n",
    "        \"\"\"X_train is a Nxm matrix, N data points, m features\n",
    "        t_train are the targets values for training data\"\"\"\n",
    "        \n",
    "        X_train = add_non_linear_features(add_bias(X_train))\n",
    "        (m, n) = X_train.shape\n",
    "        self.weights = weights = np.zeros(n)\n",
    "        \n",
    "        for e in range(epochs):\n",
    "            change = eta / k *  X_train.T @ (X_train @ weights - t_train)     \n",
    "            weights -= change\n",
    "            \n",
    "            if sum(abs(weights)) < diff:\n",
    "                break\n",
    "    \n",
    "    def predict(self, x, threshold=0.5):\n",
    "        z = add_non_linear_features(add_bias(x))\n",
    "        score = z @ self.weights\n",
    "        return score>threshold    \n",
    "\n",
    "thresholds = [1e-9, 0.1, 0.2, 0.3]\n",
    "add_non_linear_features(add_bias(X_train))\n",
    "for x in thresholds:\n",
    "    cls = NumpyLinRegClass()\n",
    "    cls.fit(X_train, t2_train, epochs=1000, diff=x)\n",
    "    print(cls.accuracy(X_val, t2_val))\n",
    "\n"
   ]
  },
  {
   "cell_type": "markdown",
   "metadata": {},
   "source": [
    "### Logistic regression with linear features"
   ]
  },
  {
   "cell_type": "code",
   "execution_count": 14,
   "metadata": {},
   "outputs": [
    {
     "name": "stdout",
     "output_type": "stream",
     "text": [
      "0.48\n",
      "0.48\n",
      "0.48\n",
      "0.48\n",
      "0.48\n"
     ]
    }
   ],
   "source": [
    "class NumpyMultiLogReg(NumpyClassifier):\n",
    "\n",
    "    def fit(self, X_train, t_train, eta = 0.1, epochs=10, diff=0.001):\n",
    "        \"\"\"X_train is a Nxm matrix, N data points, m features\n",
    "        t_train are the targets values for training data\n",
    "        \n",
    "        Makes a fit for each feature, t_train now has multiple values\"\"\"\n",
    "        \n",
    "        X_train = add_non_linear_features(add_bias(X_train))\n",
    "        (m, n) = X_train.shape\n",
    "        \n",
    "        self.weights = weights = np.zeros(n)\n",
    "        \n",
    "        for e in range(epochs):\n",
    "            change = eta / k *  X_train.T @ (self.forward(X_train) - t_train)\n",
    "            weights -= change\n",
    "            \n",
    "            if sum(abs(change)) < diff:\n",
    "                break\n",
    "    \n",
    "    def forward(self, X):\n",
    "        return logistic(X @ self.weights)\n",
    "    \n",
    "    def score(self, x):\n",
    "        z = add_non_linear_features(add_bias(x))\n",
    "        score = self.forward(z)\n",
    "        return score\n",
    "    \n",
    "    def predict(self, x, threshold=0.5):\n",
    "        z = add_non_linear_features(add_bias(x))\n",
    "        score = self.forward(z)\n",
    "        return (score>threshold).astype('int')\n",
    "    \n",
    "thresholds = [1e-09, 0.001, 0.004, 0.01, 0.1]\n",
    "\n",
    "for x in thresholds:\n",
    "    cls = NumpyMultiLogReg()\n",
    "    cls.fit(X_train, t_train, epochs=1000, diff=x)\n",
    "    print(cls.accuracy(X_val, t_val))"
   ]
  },
  {
   "cell_type": "markdown",
   "metadata": {},
   "source": [
    "### Perceptron with non linear features"
   ]
  },
  {
   "cell_type": "code",
   "execution_count": 15,
   "metadata": {
    "scrolled": true
   },
   "outputs": [
    {
     "name": "stdout",
     "output_type": "stream",
     "text": [
      "0.61\n"
     ]
    }
   ],
   "source": [
    "class PyPerClassifier(PyClassifier):\n",
    "    \"\"\"Simple perceptron python classifier\"\"\"\n",
    "    \n",
    "    def fit(self, X_train, y_train, eta=1, epochs=1):\n",
    "        \"\"\"Train the self.weights on the training data with learning\n",
    "        rate eta, running epochs many epochs\"\"\"\n",
    "        # adding the non linear features\n",
    "        X_train = add_non_linear_features(add_bias(np.array(X_train)))\n",
    "        X_train = [list(x) for x in X_train] # Put bias in position 0\n",
    "    \n",
    "        self.dim = dim = len(X_train[0])\n",
    "        self.weights = weights = [0 for _ in range(dim)]\n",
    "        # Initialize all weights to 0.\n",
    "\n",
    "        for e in range(epochs):\n",
    "            for x, t in zip(X_train, y_train):\n",
    "                y = int(self.forward(x)>0)\n",
    "                for i in range(dim):\n",
    "                    weights[i] -= eta * (y - t) * x[i]\n",
    "        \n",
    "    def forward(self, x):\n",
    "        \"\"\"Calculate the score for the item x\"\"\"\n",
    "        score = sum([self.weights[i]*x[i] for i in range(self.dim)])\n",
    "        return score       \n",
    "    \n",
    "    def predict(self, x):\n",
    "        \"\"\"Predict the value for the item x\"\"\"\n",
    "        # adding the non linear features for each predicted x\n",
    "        x = [1] + list(x) + [x[0]**2] + [x[1]**2] + [x[0]*x[1]]\n",
    "        score = self.forward(x)\n",
    "        return int(score > 0)\n",
    "\n",
    "# testing\n",
    "cls = PyPerClassifier()\n",
    "cls.fit(list(X_train), list(t2_train))\n",
    "print(cls.accuracy(list(X_val), list(t2_val)))"
   ]
  },
  {
   "cell_type": "markdown",
   "metadata": {},
   "source": [
    "The kNN already uses non linear features so we will skip this one"
   ]
  },
  {
   "cell_type": "markdown",
   "metadata": {},
   "source": [
    "<style type=\"text/css\">\n",
    ".tg  {border-collapse:collapse;border-spacing:0;}\n",
    ".tg td{border-color:black;border-style:solid;border-width:1px;font-family:Arial, sans-serif;font-size:14px;\n",
    "  overflow:hidden;padding:10px 5px;word-break:normal;}\n",
    ".tg th{border-color:black;border-style:solid;border-width:1px;font-family:Arial, sans-serif;font-size:14px;\n",
    "  font-weight:normal;overflow:hidden;padding:10px 5px;word-break:normal;}\n",
    ".tg .tg-0pky{border-color:inherit;text-align:left;vertical-align:top}\n",
    ".tg .tg-0lax{text-align:left;vertical-align:top}\n",
    "</style>\n",
    "<table class=\"tg\">\n",
    "<thead>\n",
    "  <tr>\n",
    "    <th class=\"tg-0pky\">Classifier</th>\n",
    "    <th class=\"tg-0pky\">Linear regression</th>\n",
    "    <th class=\"tg-0pky\">Logistic regression</th>\n",
    "    <th class=\"tg-0pky\">Perceptron</th>\n",
    "  </tr>\n",
    "</thead>\n",
    "<tbody>\n",
    "  <tr>\n",
    "    <td class=\"tg-0pky\">Without linear features</td>\n",
    "    <td class=\"tg-0pky\">0.6075</td>\n",
    "    <td class=\"tg-0pky\">0.59</td>\n",
    "    <td class=\"tg-0pky\">0.6475</td>\n",
    "  </tr>\n",
    "  <tr>\n",
    "    <td class=\"tg-0lax\">With linear features</td>\n",
    "    <td class=\"tg-0lax\">0.5275</td>\n",
    "    <td class=\"tg-0lax\">0.48</td>\n",
    "    <td class=\"tg-0lax\">0.61</td>\n",
    "  </tr>\n",
    "</tbody>\n",
    "</table>"
   ]
  },
  {
   "cell_type": "markdown",
   "metadata": {},
   "source": [
    "In general the classifiers perform worse with the non linear features, but the perceptron is the one that is the least affected with its accuracy only being reduced by 3.75 percentage points and the logistic regression is the most affected, being reduced by 11 percentage points"
   ]
  },
  {
   "cell_type": "markdown",
   "metadata": {},
   "source": [
    "# Part II\n",
    "## Multi-layer neural networks\n",
    "We will implement the Multi-layer feed forward network (MLP, Marsland sec. 4.2.1). We will do so in two steps. In the first step, we will work concretely with the dataset (X, t). We will initialize the network and run a first round of training, i.e. one pass throught the algorithm at p. 78 in Marsland.\n",
    "\n",
    "In the second step, we will turn this code into a more general classifier. We can train and test this on (X, t), but also on other datasets.\n",
    "\n",
    "First of all we should scale the X, here I use a min-max scaler."
   ]
  },
  {
   "cell_type": "code",
   "execution_count": 16,
   "metadata": {},
   "outputs": [],
   "source": [
    "# using a min-max scaler\n",
    "\n",
    "x_max = np.max(X_train)\n",
    "x_min = np.min(X_train)\n",
    "X_scaled = (X_train - x_min)/(x_max - x_min)"
   ]
  },
  {
   "cell_type": "markdown",
   "metadata": {},
   "source": [
    "## Step1: One round of training"
   ]
  },
  {
   "cell_type": "markdown",
   "metadata": {},
   "source": [
    "### Initialization\n",
    "We will only use one hidden layer. The number of nodes in the hidden layer will be a hyper-parameter provided by the user; let's call it *dim_hidden*. Initially, we will set it to 6. This is a hyper-parameter where other values may give better results, and the hyper-parameter could be tuned.\n",
    "\n",
    "Another hyper-parameter set by the user is the learning rate. We set the initial value to 0.01, but also this may need tuning."
   ]
  },
  {
   "cell_type": "code",
   "execution_count": 17,
   "metadata": {},
   "outputs": [],
   "source": [
    "eta = 0.01 #Learning rate\n",
    "dim_hidden = 6"
   ]
  },
  {
   "cell_type": "markdown",
   "metadata": {},
   "source": [
    "We assume that the input *X_train* (after scaling) is a matrix of dimension *P x dim_in*, where *P* is the number of training instances, and *dim_in* is the number of features in the training instances. Hence we can read *dim_in* off from *X_train*. Similarly, we can read *dim_out* off from *t_train*."
   ]
  },
  {
   "cell_type": "code",
   "execution_count": 18,
   "metadata": {},
   "outputs": [],
   "source": [
    "\n",
    "# amount of features\n",
    "dim_in =  X_train.shape[1]  # Calculate the correct value from the input data\n",
    "\n",
    "dim_out = len(set(t_train))\n",
    "\n",
    "# convert t_train to one-hot-encoding\n",
    "hot_map = {0: [1,0,0], 1: [0,1,0], 2: [0,0,1]}\n",
    "t_hot = [hot_map[x] for x in t_train]"
   ]
  },
  {
   "cell_type": "markdown",
   "metadata": {},
   "source": [
    "We need two sets of weights: weights1 between the input and the hidden layer, and weights2, between the hidden layer and the output. We will create the weight matrices and initialize them to small random numbers. Augmenting the dimension by one to get the correct dimensions with the bias terms."
   ]
  },
  {
   "cell_type": "code",
   "execution_count": 19,
   "metadata": {},
   "outputs": [],
   "source": [
    "# add +1 for the bias\n",
    "weights1 = np.zeros((dim_in+1, dim_hidden))\n",
    "weights2 = np.zeros((dim_hidden+1, dim_out))\n",
    "\n",
    "# setting the bias to 1\n",
    "weights1[0] = weights2[0] = 1"
   ]
  },
  {
   "cell_type": "markdown",
   "metadata": {},
   "source": [
    "### Forwards phase\n",
    "We will run the first step in the training, and start with the forward phase. Calculate the activations after the hidden layer and after the output layer. We will use the logistic (sigmoid) activation function in both layers."
   ]
  },
  {
   "cell_type": "code",
   "execution_count": 20,
   "metadata": {},
   "outputs": [],
   "source": [
    "hidden_activations = add_bias(X_scaled) @ weights1"
   ]
  },
  {
   "cell_type": "code",
   "execution_count": 21,
   "metadata": {},
   "outputs": [],
   "source": [
    "X_temp = add_bias(X_scaled)\n",
    "\n",
    "def sigmoid(x):\n",
    "    return 1/(1+np.exp(-x))\n",
    "\n",
    "def forward(X):\n",
    "    H_j = X @ weights1\n",
    "    A = sigmoid(H_j)\n",
    "    A_b = add_bias(A)\n",
    "    H_k = A_b @ weights2\n",
    "    \n",
    "    return sigmoid(H_k)\n",
    "\n",
    "output_activations = forward(X_temp)"
   ]
  },
  {
   "cell_type": "markdown",
   "metadata": {},
   "source": [
    "### Backwards phase\n",
    "Here we calculate the delta terms at the output. We assume that we use sums of squared errors. (This amounts to the same as using the mean square error)."
   ]
  },
  {
   "cell_type": "code",
   "execution_count": 22,
   "metadata": {},
   "outputs": [],
   "source": [
    "y_k = forward(add_bias(X_scaled))\n",
    "delta_o = (y_k - t_hot)*y_k*(1-y_k)"
   ]
  },
  {
   "cell_type": "markdown",
   "metadata": {},
   "source": [
    "Here we calculate the delta terms in the hidden layer."
   ]
  },
  {
   "cell_type": "code",
   "execution_count": 23,
   "metadata": {},
   "outputs": [
    {
     "data": {
      "text/plain": [
       "array([[0., 0., 0., ..., 0., 0., 0.],\n",
       "       [0., 0., 0., ..., 0., 0., 0.],\n",
       "       [0., 0., 0., ..., 0., 0., 0.],\n",
       "       ...,\n",
       "       [0., 0., 0., ..., 0., 0., 0.],\n",
       "       [0., 0., 0., ..., 0., 0., 0.],\n",
       "       [0., 0., 0., ..., 0., 0., 0.]])"
      ]
     },
     "execution_count": 23,
     "metadata": {},
     "output_type": "execute_result"
    }
   ],
   "source": [
    "def backward(X):\n",
    "    y_k = forward(X)\n",
    "    delta_o = (y_k - t_hot)*y_k*(1-y_k)\n",
    "    H_j = X @ weights1\n",
    "    A = sigmoid(H_j)\n",
    "    A = add_bias(A)\n",
    "    delta_h = A * (1-A) * (delta_o @ weights2.T)\n",
    "    return delta_h\n",
    "\n",
    "\n",
    "X_temp = forward(add_bias(X_scaled))\n",
    "backward(X_temp)"
   ]
  },
  {
   "cell_type": "markdown",
   "metadata": {},
   "source": [
    "We update the weights and check that they have changed."
   ]
  },
  {
   "cell_type": "code",
   "execution_count": 24,
   "metadata": {},
   "outputs": [
    {
     "name": "stdout",
     "output_type": "stream",
     "text": [
      "weights 2 before update\n",
      " [[1. 1. 1.]\n",
      " [0. 0. 0.]\n",
      " [0. 0. 0.]\n",
      " [0. 0. 0.]\n",
      " [0. 0. 0.]\n",
      " [0. 0. 0.]\n",
      " [0. 0. 0.]] \n",
      "\n",
      "\n",
      "after update\n",
      " [[ 0.23154843  0.66802692  0.22368395]\n",
      " [-0.56178311 -0.24269177 -0.56753251]\n",
      " [-0.56178311 -0.24269177 -0.56753251]\n",
      " [-0.56178311 -0.24269177 -0.56753251]\n",
      " [-0.56178311 -0.24269177 -0.56753251]\n",
      " [-0.56178311 -0.24269177 -0.56753251]\n",
      " [-0.56178311 -0.24269177 -0.56753251]] \n",
      "\n",
      "weights 1 before update\n",
      " [[1. 1. 1. 1. 1. 1.]\n",
      " [0. 0. 0. 0. 0. 0.]\n",
      " [0. 0. 0. 0. 0. 0.]] \n",
      "\n",
      "\n",
      "after update\n",
      " [[1. 1. 1. 1. 1. 1.]\n",
      " [0. 0. 0. 0. 0. 0.]\n",
      " [0. 0. 0. 0. 0. 0.]]\n"
     ]
    }
   ],
   "source": [
    "#update weights\n",
    "X_temp = add_bias(X_scaled)\n",
    "y_k = forward(X_temp)\n",
    "delta_o = (y_k - t_hot)*y_k*(1-y_k)\n",
    "\n",
    "H_j = X_temp @ weights1\n",
    "A = sigmoid(H_j)\n",
    "A_b = add_bias(A)\n",
    "H_k = A_b @ weights2\n",
    "delta_h = A_b * (1-A_b) * (delta_o @ weights2.T)\n",
    "\n",
    "print(\"weights 2 before update\\n\", weights2, \"\\n\\n\")\n",
    "weights2 = weights2 - eta*A_b.T@delta_o \n",
    "print(\"after update\\n\",weights2, \"\\n\")\n",
    "\n",
    "print(\"weights 1 before update\\n\", weights1, \"\\n\\n\")\n",
    "# not including the bias by [:,:-1]\n",
    "weights1 = weights1 - eta*X_temp.T@delta_h[:,:-1]\n",
    "print(\"after update\\n\",weights1)"
   ]
  },
  {
   "cell_type": "markdown",
   "metadata": {},
   "source": [
    "##  Step 2: A Multi-layer neural network classifier"
   ]
  },
  {
   "cell_type": "markdown",
   "metadata": {},
   "source": [
    "We want to train and test a classifier on (X, t). To be true to the DRY principle we will build a general Multi-layer neural network classfier as a class. This class will have some of the same structure as the classifiers we made for linear and logistic regression."
   ]
  },
  {
   "cell_type": "code",
   "execution_count": 25,
   "metadata": {},
   "outputs": [],
   "source": [
    "# ensuring that I will get an error if i accidentally use any of the variables declared outside of the MNN class\n",
    "A = y_k = delta_o = delta_h = eta = weights1 = weights2 = H_j = H_k = None"
   ]
  },
  {
   "cell_type": "code",
   "execution_count": 26,
   "metadata": {},
   "outputs": [
    {
     "name": "stderr",
     "output_type": "stream",
     "text": [
      "/tmp/ipykernel_45479/1586608329.py:2: RuntimeWarning: overflow encountered in exp\n",
      "  return 1/(1+np.exp(-x))\n"
     ]
    },
    {
     "name": "stdout",
     "output_type": "stream",
     "text": [
      "correct:  233\n",
      "0.5825\n"
     ]
    }
   ],
   "source": [
    "def sigmoid(x):\n",
    "    return 1/(1+np.exp(-x))\n",
    "\n",
    "def add_bias(X):\n",
    "    \"\"\"X is a Nxm matrix: N datapoints, m features\n",
    "    Return a Nx(m+1) matrix with added bias in position zero\"\"\"\n",
    "    sh = X.shape\n",
    "    m = sh[0]\n",
    "    bias = np.ones((m,1)) # Make a m*1 matrix of 1-s\n",
    "    # Concatenate the column of bias in front of the columns of X.\n",
    "    return np.concatenate((bias, X), axis = 1)\n",
    "\n",
    "def one_hot_encoding(t):\n",
    "    \"\"\"Converts integer values to one hot encoding\"\"\"\n",
    "    hot_map = {0: [1,0,0], 1: [0,1,0], 2: [0,0,1]}\n",
    "    return np.array([hot_map[x] for x in t])\n",
    "\n",
    "def scale_min_max(X):\n",
    "    \"\"\"min-max scaler\"\"\"\n",
    "    x_max = np.max(X)\n",
    "    x_min = np.min(X)\n",
    "    X_scaled = (X - x_min)/(x_max - x_min)\n",
    "    return X_scaled\n",
    "    \n",
    "class MNNClassifier():\n",
    "    \"\"\"A multi-layer neural network with one hidden layer\"\"\"\n",
    "    \n",
    "    def __init__(self, eta = 0.001, dim_hidden = 6):\n",
    "        \"\"\"Initialize the hyperparameters\"\"\"\n",
    "        self.eta = eta\n",
    "        self.dim_hidden = dim_hidden\n",
    "        \n",
    "    def fit(self, X_train, t_train, epochs = 100):\n",
    "        \"\"\"Initialize the self.weights. Train *epochs* many epochs.\"\"\"\n",
    "        # Initilaization\n",
    "        \n",
    "        #scaling X\n",
    "        X_train = scale_min_max(X_train)\n",
    "        \n",
    "        # convert t_train to one-hot-encoding\n",
    "        self.t_hot = one_hot_encoding(t_train)\n",
    "        \n",
    "        # amount of features\n",
    "        dim_in =  X_train.shape[1]  # Calculate the correct value from the input data\n",
    "        self.dim_out = self.t_hot.shape[1]\n",
    "        \n",
    "        # add +1 for the bias\n",
    "        self.weights1 = np.ones((dim_in+1, self.dim_hidden))/1e3\n",
    "        self.weights2 = np.ones((self.dim_hidden+1, self.dim_out))/1e3\n",
    "\n",
    "        self.X_b = X_b = add_bias(X_train)\n",
    "        self.forward(self.X_b)\n",
    "        self.backward()\n",
    "        self.update()\n",
    "\n",
    "        \n",
    "        for e in range(epochs):\n",
    "            # Run one epoch of forward-backward\n",
    "            self.forward(self.X_b)\n",
    "            self.backward()\n",
    "            self.update()\n",
    "\n",
    "            \n",
    "    def forward(self, X):\n",
    "        \"\"\"Perform one forward step. \n",
    "        Return a pair consisting of the outputs of the hidden_layer\n",
    "        and the outputs on the final layer\"\"\"\n",
    "        self.H_j = X @ self.weights1\n",
    "        A = sigmoid(self.H_j)\n",
    "        self.A_b = add_bias(A)\n",
    "        H_k = self.A_b @ self.weights2\n",
    "        self.y_k = sigmoid(H_k)\n",
    "    \n",
    "    def backward(self):\n",
    "        \"\"\"Perform one backward step.\"\"\"\n",
    "        self.delta_o = (self.y_k - self.t_hot)*self.y_k*(1-self.y_k)\n",
    "        self.delta_h = self.A_b * (1-self.A_b) * (self.delta_o @ self.weights2.T)\n",
    "        \n",
    "    def update(self):\n",
    "        \"\"\"Update both sets of weights for the network\"\"\"\n",
    "        self.weights2 = self.weights2 - self.eta*self.A_b.T@self.delta_o \n",
    "        self.weights1 = self.weights1 - self.eta*self.X_b.T@self.delta_h[:,:-1]\n",
    "    \n",
    "    def predict(self, X_test):\n",
    "        \"\"\"predict the feature for every point in X_test\n",
    "        Return predicted\"\"\"\n",
    "        X_tb = add_bias(X_test)\n",
    "        self.forward(X_tb)\n",
    "        predicted = np.zeros((len(X_test),self.dim_out))\n",
    "        for i in range(0,len(X_test)):\n",
    "            # make the guess the one with the highest probability from y_k\n",
    "            predicted[i][np.argmax(self.y_k[i])] = 1\n",
    "        return predicted\n",
    "    \n",
    "    def accuracy(self, X_test, t_test):\n",
    "        \"\"\"Calculate the accuracy of the classifier for the pair (X_test, t_test)\n",
    "        Return the accuracy\"\"\"\n",
    "        \n",
    "        t_test = one_hot_encoding(t_test)\n",
    "        pred = self.predict(X_test)\n",
    "        correct = 0\n",
    "        # calculate amount correctly predicted\n",
    "        for i in range(len(t_test)):\n",
    "            if list(t_test[i]) == list(pred[i]):\n",
    "                correct += 1\n",
    "        print(\"correct: \", correct)\n",
    "        return correct/len(pred)\n",
    "\n",
    "cls = MNNClassifier(eta = 0.1)\n",
    "cls.fit(X_train, t_train, epochs = 10000)\n",
    "print(cls.accuracy(X_val, t_val))"
   ]
  },
  {
   "cell_type": "markdown",
   "metadata": {},
   "source": [
    "We will now train the network on (X_train, t_train) (after scaling), and test on (X_val, t_val)."
   ]
  },
  {
   "cell_type": "markdown",
   "metadata": {},
   "source": [
    "## A neural network classifier for (X, t2)\n",
    "Let us see whether a multilayer neural network can learn a non-linear classifier.<br>\n",
    "We will train it on (X_train, t2_train), test it on (X_val, t2_val) and tune the hyper-parameters for the best result."
   ]
  },
  {
   "cell_type": "code",
   "execution_count": 27,
   "metadata": {},
   "outputs": [
    {
     "name": "stderr",
     "output_type": "stream",
     "text": [
      "/tmp/ipykernel_45479/1586608329.py:2: RuntimeWarning: overflow encountered in exp\n",
      "  return 1/(1+np.exp(-x))\n"
     ]
    },
    {
     "name": "stdout",
     "output_type": "stream",
     "text": [
      "correct:  254\n",
      "0.635\n"
     ]
    }
   ],
   "source": [
    "cls = MNNClassifier(eta = 0.1)\n",
    "cls.fit(X_train, t2_train, epochs=10000)\n",
    "print(cls.accuracy(X_val, t2_val))"
   ]
  },
  {
   "cell_type": "markdown",
   "metadata": {},
   "source": [
    "# Part III: Final testing\n",
    "Here we take the best classifiers that we've found for the training sets (X, t) and (X, t2) and test them on (X_test, t_test) and (X_test, t2_test), respectively. Compute accuracy, the confusion matrix, precision and recall."
   ]
  },
  {
   "cell_type": "code",
   "execution_count": 28,
   "metadata": {},
   "outputs": [
    {
     "name": "stdout",
     "output_type": "stream",
     "text": [
      "\n",
      "kNN : 0.7575 \n",
      "\n"
     ]
    },
    {
     "name": "stderr",
     "output_type": "stream",
     "text": [
      "/tmp/ipykernel_45479/1586608329.py:2: RuntimeWarning: overflow encountered in exp\n",
      "  return 1/(1+np.exp(-x))\n"
     ]
    },
    {
     "name": "stdout",
     "output_type": "stream",
     "text": [
      "correct:  240\n",
      "MNN : 0.6\n"
     ]
    }
   ],
   "source": [
    "cls = PykNNClassifier(20)\n",
    "cls.fit(X_train, t_train)\n",
    "print(\"\\nkNN :\",cls.accuracy(X_test, t_test),\"\\n\")\n",
    "\n",
    "cls = MNNClassifier(eta=0.1)\n",
    "cls.fit(X_train, t_train, epochs=10000)\n",
    "print(\"MNN :\",cls.accuracy(X_test, t_test))\n",
    "\n",
    "# For the kNN classifier, the accuracy is only a percentage point worse than for the validation sets, X_val and t_val. \n",
    "# The MNN actually did a tiny 0.05 bit better for the test set than for (X_val, t_val).\n",
    "\n"
   ]
  },
  {
   "cell_type": "code",
   "execution_count": 29,
   "metadata": {},
   "outputs": [
    {
     "name": "stderr",
     "output_type": "stream",
     "text": [
      "/tmp/ipykernel_45479/1586608329.py:2: RuntimeWarning: overflow encountered in exp\n",
      "  return 1/(1+np.exp(-x))\n"
     ]
    },
    {
     "name": "stdout",
     "output_type": "stream",
     "text": [
      "                            truth\n",
      "                    |  negative|  positive|\n",
      "          ---------------------------------\n",
      "          negative  |      50.0|       5.0|\n",
      "predicted ---------------------------------\n",
      "          positive  |     155.0|     190.0|\n",
      "          ---------------------------------\n"
     ]
    }
   ],
   "source": [
    "# Confusion matrix\n",
    "def cf_matrix(predicted, truth):\n",
    "    table = np.zeros((2,2))\n",
    "    for p,g in zip(predicted, truth):\n",
    "        if list(p) == list(g) == [0,1,0]:\n",
    "            table[1, 1] +=1\n",
    "        elif list(p) == [0,1,0]:\n",
    "            table[1, 0] += 1\n",
    "        elif list(g) == [0,1,0]:\n",
    "            table[0, 1] += 1\n",
    "        else:\n",
    "            table[0,0] += 1\n",
    "    print(28*\" \"+\"truth\")\n",
    "    print(\"{:20}|{:>10}|{:>10}|\".format(\" \",\"negative\", \"positive\"))\n",
    "    print(10*\" \"+33*\"-\")\n",
    "    print(\"{:10}{:10}|{:10}|{:10}|\".format(\" \",\"negative\",table[0,0], table[0,1]))\n",
    "    print(\"predicted \"+33*\"-\")\n",
    "    print(\"{:10}{:10}|{:10}|{:10}|\".format(\" \",\"positive\",table[1,0], table[1,1]))\n",
    "    print(10*\" \"+33*\"-\")\n",
    "    \n",
    "cls = MNNClassifier(eta=0.1)\n",
    "cls.fit(X_train, t_train, epochs = 10000)\n",
    "predicted = cls.predict(X_test)\n",
    "cf_matrix(predicted, one_hot_encoding(t_test))"
   ]
  }
 ],
 "metadata": {
  "kernelspec": {
   "display_name": "Python 3",
   "language": "python",
   "name": "python3"
  },
  "language_info": {
   "codemirror_mode": {
    "name": "ipython",
    "version": 3
   },
   "file_extension": ".py",
   "mimetype": "text/x-python",
   "name": "python",
   "nbconvert_exporter": "python",
   "pygments_lexer": "ipython3",
   "version": "3.8.10"
  }
 },
 "nbformat": 4,
 "nbformat_minor": 4
}
